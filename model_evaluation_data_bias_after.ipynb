{
 "cells": [
  {
   "cell_type": "code",
   "execution_count": null,
   "metadata": {},
   "outputs": [],
   "source": [
    "%reload_ext autoreload\n",
    "%autoreload 2"
   ]
  },
  {
   "cell_type": "markdown",
   "metadata": {},
   "source": [
    "### Scores for bias Gen"
   ]
  },
  {
   "cell_type": "code",
   "execution_count": null,
   "metadata": {},
   "outputs": [],
   "source": [
    "import evaluation\n",
    "\n",
    "metrics_file_path = './Final_Test_MetricsBase_CNN.npz'\n",
    "\n",
    "evaluation.read_socres(metrics_file_path, conf_m_title='Concusion Matrix for Base_CNN')\n",
    "evaluation.read_socres_gen(metrics_file_path, conf_m_title='Gen Concusion Matrix for Base_CNN')\n",
    "evaluation.read_socres_race(metrics_file_path, conf_m_title='Race Concusion Matrix for Base_CNN')"
   ]
  },
  {
   "cell_type": "code",
   "execution_count": 1,
   "metadata": {},
   "outputs": [
    {
     "name": "stdout",
     "output_type": "stream",
     "text": [
      "label: 0 with 1000 images, named as \"cloth_mask\"\n",
      "label: 1 with 1000 images, named as \"no_face_mask\"\n",
      "label: 2 with 1000 images, named as \"surgical_mask\"\n",
      "label: 3 with 1000 images, named as \"n95_mask\"\n",
      "label: 4 with 1000 images, named as \"mask_worn_incorrectly\"\n"
     ]
    }
   ],
   "source": [
    "import torch\n",
    "import numpy as np\n",
    "from torch.utils.data import Dataset\n",
    "from torchvision import datasets\n",
    "from torchvision.transforms import ToTensor\n",
    "import torchvision.transforms as T\n",
    "import matplotlib.pyplot as plt\n",
    "\n",
    "from data_process.DatasetHelper import label_map\n",
    "from data_process.DatasetHelper import label_map_new\n",
    "from data_process.DatasetHelper import ImageDataset\n",
    "\n",
    "data = ImageDataset('./data/aug_3')\n",
    "data_loader = torch.utils.data.DataLoader(data, batch_size=100000, shuffle=True, num_workers=1)\n",
    "\n",
    "for data, labels in data_loader:\n",
    "    data_X, data_y = data.float(), labels\n",
    "    \n",
    "data_y = data_y.numpy()"
   ]
  },
  {
   "cell_type": "code",
   "execution_count": 2,
   "metadata": {},
   "outputs": [
    {
     "name": "stdout",
     "output_type": "stream",
     "text": [
      "{'mask_worn_incorrectly_m': 453, 'surgical_mask_fm': 544, 'no_face_mask_fm': 496, 'cloth_mask_fm': 550, 'no_face_mask_m': 504, 'n95_mask_m': 461, 'n95_mask_fm': 539, 'surgical_mask_m': 456, 'mask_worn_incorrectly_fm': 547, 'cloth_mask_m': 450}\n"
     ]
    },
    {
     "data": {
      "text/html": [
       "<div>\n",
       "<style scoped>\n",
       "    .dataframe tbody tr th:only-of-type {\n",
       "        vertical-align: middle;\n",
       "    }\n",
       "\n",
       "    .dataframe tbody tr th {\n",
       "        vertical-align: top;\n",
       "    }\n",
       "\n",
       "    .dataframe thead th {\n",
       "        text-align: right;\n",
       "    }\n",
       "</style>\n",
       "<table border=\"1\" class=\"dataframe\">\n",
       "  <thead>\n",
       "    <tr style=\"text-align: right;\">\n",
       "      <th></th>\n",
       "      <th>m</th>\n",
       "      <th>fm</th>\n",
       "      <th>bias(fm - m)</th>\n",
       "    </tr>\n",
       "  </thead>\n",
       "  <tbody>\n",
       "    <tr>\n",
       "      <th>cloth_mask</th>\n",
       "      <td>450</td>\n",
       "      <td>550</td>\n",
       "      <td>100</td>\n",
       "    </tr>\n",
       "    <tr>\n",
       "      <th>no_face_mask</th>\n",
       "      <td>504</td>\n",
       "      <td>496</td>\n",
       "      <td>-8</td>\n",
       "    </tr>\n",
       "    <tr>\n",
       "      <th>surgical_mask</th>\n",
       "      <td>456</td>\n",
       "      <td>544</td>\n",
       "      <td>88</td>\n",
       "    </tr>\n",
       "    <tr>\n",
       "      <th>n95_mask</th>\n",
       "      <td>461</td>\n",
       "      <td>539</td>\n",
       "      <td>78</td>\n",
       "    </tr>\n",
       "    <tr>\n",
       "      <th>mask_worn_incorrectly</th>\n",
       "      <td>453</td>\n",
       "      <td>547</td>\n",
       "      <td>94</td>\n",
       "    </tr>\n",
       "  </tbody>\n",
       "</table>\n",
       "</div>"
      ],
      "text/plain": [
       "                         m   fm  bias(fm - m)\n",
       "cloth_mask             450  550           100\n",
       "no_face_mask           504  496            -8\n",
       "surgical_mask          456  544            88\n",
       "n95_mask               461  539            78\n",
       "mask_worn_incorrectly  453  547            94"
      ]
     },
     "execution_count": 2,
     "metadata": {},
     "output_type": "execute_result"
    }
   ],
   "source": [
    "from evaluation import downgrade_argmax_target_to_gen, mask_label_name_list\n",
    "from data_process.DatasetHelper import label_map_new_gen\n",
    "\n",
    "gen_label_list = [downgrade_argmax_target_to_gen(y) for y in data_y]\n",
    "\n",
    "d = {}\n",
    "\n",
    "for l in gen_label_list:\n",
    "    l_name = label_map_new_gen[l]\n",
    "    if d.get(l_name) == None:\n",
    "        d[l_name] = 0\n",
    "    d[l_name] += 1\n",
    "\n",
    "print(d)\n",
    "\n",
    "gen_arr = {'m': [d[mask_male_label] for mask_male_label in [l + '_m' for l in mask_label_name_list]], \n",
    "           'fm': [d[mask_male_label] for mask_male_label in [l + '_fm' for l in mask_label_name_list]]}\n",
    "\n",
    "bias = []\n",
    "\n",
    "for i in range(5):\n",
    "    bias.append(gen_arr['fm'][i] - gen_arr['m'][i])\n",
    "    \n",
    "gen_arr['bias(fm - m)'] = bias\n",
    "\n",
    "import pandas as pd\n",
    "df = pd.DataFrame(data=gen_arr, index=mask_label_name_list)\n",
    "\n",
    "df"
   ]
  },
  {
   "cell_type": "code",
   "execution_count": 3,
   "metadata": {},
   "outputs": [
    {
     "name": "stdout",
     "output_type": "stream",
     "text": [
      "{'mask_worn_incorrectly_afar': 300, 'surgical_mask_caas': 600, 'no_face_mask_caas': 525, 'cloth_mask_caas': 600, 'no_face_mask_afar': 475, 'mask_worn_incorrectly_caas': 700, 'n95_mask_afar': 400, 'surgical_mask_afar': 400, 'cloth_mask_afar': 400, 'n95_mask_caas': 600}\n"
     ]
    },
    {
     "data": {
      "text/html": [
       "<div>\n",
       "<style scoped>\n",
       "    .dataframe tbody tr th:only-of-type {\n",
       "        vertical-align: middle;\n",
       "    }\n",
       "\n",
       "    .dataframe tbody tr th {\n",
       "        vertical-align: top;\n",
       "    }\n",
       "\n",
       "    .dataframe thead th {\n",
       "        text-align: right;\n",
       "    }\n",
       "</style>\n",
       "<table border=\"1\" class=\"dataframe\">\n",
       "  <thead>\n",
       "    <tr style=\"text-align: right;\">\n",
       "      <th></th>\n",
       "      <th>caas</th>\n",
       "      <th>afar</th>\n",
       "      <th>bias(afar - caas)</th>\n",
       "    </tr>\n",
       "  </thead>\n",
       "  <tbody>\n",
       "    <tr>\n",
       "      <th>cloth_mask</th>\n",
       "      <td>600</td>\n",
       "      <td>400</td>\n",
       "      <td>-200</td>\n",
       "    </tr>\n",
       "    <tr>\n",
       "      <th>no_face_mask</th>\n",
       "      <td>525</td>\n",
       "      <td>475</td>\n",
       "      <td>-50</td>\n",
       "    </tr>\n",
       "    <tr>\n",
       "      <th>surgical_mask</th>\n",
       "      <td>600</td>\n",
       "      <td>400</td>\n",
       "      <td>-200</td>\n",
       "    </tr>\n",
       "    <tr>\n",
       "      <th>n95_mask</th>\n",
       "      <td>600</td>\n",
       "      <td>400</td>\n",
       "      <td>-200</td>\n",
       "    </tr>\n",
       "    <tr>\n",
       "      <th>mask_worn_incorrectly</th>\n",
       "      <td>700</td>\n",
       "      <td>300</td>\n",
       "      <td>-400</td>\n",
       "    </tr>\n",
       "  </tbody>\n",
       "</table>\n",
       "</div>"
      ],
      "text/plain": [
       "                       caas  afar  bias(afar - caas)\n",
       "cloth_mask              600   400               -200\n",
       "no_face_mask            525   475                -50\n",
       "surgical_mask           600   400               -200\n",
       "n95_mask                600   400               -200\n",
       "mask_worn_incorrectly   700   300               -400"
      ]
     },
     "execution_count": 3,
     "metadata": {},
     "output_type": "execute_result"
    }
   ],
   "source": [
    "from evaluation import downgrade_argmax_target_to_race, mask_label_name_list\n",
    "from data_process.DatasetHelper import label_map_new_race\n",
    "race_label_list = [downgrade_argmax_target_to_race(y) for y in data_y]\n",
    "\n",
    "d = {}\n",
    "\n",
    "for l in race_label_list:\n",
    "    l_name = label_map_new_race[l]\n",
    "    if d.get(l_name) == None:\n",
    "        d[l_name] = 0\n",
    "    d[l_name] += 1\n",
    "\n",
    "print(d)\n",
    "\n",
    "race_arr = {'caas': [d[mask_male_label] for mask_male_label in [l + '_caas' for l in mask_label_name_list]], \n",
    "           'afar': [d[mask_male_label] for mask_male_label in [l + '_afar' for l in mask_label_name_list]]}\n",
    "\n",
    "bias = []\n",
    "\n",
    "for i in range(5):\n",
    "    bias.append(race_arr['afar'][i] - race_arr['caas'][i])\n",
    "    \n",
    "race_arr['bias(afar - caas)'] = bias\n",
    "\n",
    "import pandas as pd\n",
    "df = pd.DataFrame(data=race_arr, index=mask_label_name_list)\n",
    "\n",
    "df"
   ]
  }
 ],
 "metadata": {
  "interpreter": {
   "hash": "75dabb51cdb480bc6facf2c981ec85f83c5f38a839d849fc6b0b7624b07b4316"
  },
  "kernelspec": {
   "display_name": "Python 3.6.15 ('comp6721')",
   "language": "python",
   "name": "python3"
  },
  "language_info": {
   "codemirror_mode": {
    "name": "ipython",
    "version": 3
   },
   "file_extension": ".py",
   "mimetype": "text/x-python",
   "name": "python",
   "nbconvert_exporter": "python",
   "pygments_lexer": "ipython3",
   "version": "3.6.15"
  },
  "orig_nbformat": 4
 },
 "nbformat": 4,
 "nbformat_minor": 2
}
