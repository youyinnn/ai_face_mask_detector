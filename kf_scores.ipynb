{
 "cells": [
  {
   "cell_type": "code",
   "execution_count": 1,
   "metadata": {
    "pycharm": {
     "name": "#%%\n"
    }
   },
   "outputs": [
    {
     "name": "stdout",
     "output_type": "stream",
     "text": [
      "          precision    recall  f1-score   accuary\n",
      "cloth      0.681818  0.740741  0.710059  0.775229\n",
      "no_face    0.863014    0.7875  0.823529      0.85\n",
      "surgical   0.662791    0.7125  0.686747  0.761468\n",
      "n95        0.767857  0.544304  0.637037  0.733696\n",
      "incorrect  0.690722    0.8375  0.757062  0.804545\n",
      "                                                 \n"
     ]
    }
   ],
   "source": [
    "import evaluation\n",
    "import pandas as pd\n",
    "# evaluation.read_socres('./Fold_1_MetricsBase_CNN_Part2.npz', conf_m_title='Concusion Matrix for Base_CNN', show_cm=False)\n",
    "# evaluation.read_socres('./Fold_2_MetricsBase_CNN_Part2.npz', conf_m_title='Concusion Matrix for Base_CNN', show_cm=False)\n",
    "# evaluation.read_socres('./Fold_3_MetricsBase_CNN_Part2.npz', conf_m_title='Concusion Matrix for Base_CNN', show_cm=False)\n",
    "# evaluation.read_socres('./Fold_4_MetricsBase_CNN_Part2.npz', conf_m_title='Concusion Matrix for Base_CNN', show_cm=False)\n",
    "# evaluation.read_socres('./Fold_5_MetricsBase_CNN_Part2.npz', conf_m_title='Concusion Matrix for Base_CNN', show_cm=False)\n",
    "# evaluation.read_socres('./Fold_6_MetricsBase_CNN_Part2.npz', conf_m_title='Concusion Matrix for Base_CNN', show_cm=False)\n",
    "# evaluation.read_socres('./Fold_7_MetricsBase_CNN_Part2.npz', conf_m_title='Concusion Matrix for Base_CNN', show_cm=False)\n",
    "# evaluation.read_socres('./Fold_8_MetricsBase_CNN_Part2.npz', conf_m_title='Concusion Matrix for Base_CNN', show_cm=False)\n",
    "# evaluation.read_socres('./Fold_9_MetricsBase_CNN_Part2.npz', conf_m_title='Concusion Matrix for Base_CNN', show_cm=False)\n",
    "# evaluation.read_socres('./Fold_10_MetricsBase_CNN_Part2.npz', conf_m_title='Concusion Matrix for Base_CNN', show_cm=False)\n",
    "print(evaluation.read_socres('./Fold_1_MetricsBase_CNN_Part2.npz', conf_m_title='Concusion Matrix for Base_CNN', show_cm=False, printing=False))\n",
    "#evaluation.read_socres_gen(metrics_file_path, conf_m_title='Gen Concusion Matrix for Base_CNN')\n",
    "#evaluation.read_socres_race(metrics_file_path, conf_m_title='Race Concusion Matrix for Base_CNN')"
   ]
  },
  {
   "cell_type": "code",
   "execution_count": 22,
   "outputs": [
    {
     "name": "stdout",
     "output_type": "stream",
     "text": [
      "          precision    recall  f1-score   accuary\n",
      "cloth      0.681818  0.740741  0.710059  0.775229\n",
      "no_face    0.863014    0.7875  0.823529      0.85\n",
      "surgical   0.662791    0.7125  0.686747  0.761468\n",
      "n95        0.767857  0.544304  0.637037  0.733696\n",
      "incorrect  0.690722    0.8375  0.757062  0.804545\n",
      "                                                 \n",
      "          precision    recall  f1-score   accuary\n",
      "cloth        0.7875  0.777778  0.782609  0.821429\n",
      "no_face    0.776316    0.7375   0.75641  0.804124\n",
      "surgical   0.746032    0.5875  0.657343  0.744792\n",
      "n95        0.695238  0.924051  0.793478  0.828829\n",
      "incorrect  0.815789     0.775  0.794872  0.829787\n",
      "                                                 \n"
     ]
    }
   ],
   "source": [
    "x = evaluation.read_socres('./Fold_1_MetricsBase_CNN_Part2.npz', conf_m_title='Concusion Matrix for Base_CNN', show_cm=False, printing = False)\n",
    "y = evaluation.read_socres('./Fold_2_MetricsBase_CNN_Part2.npz', conf_m_title='Concusion Matrix for Base_CNN', show_cm=False, printing = False)\n",
    "\n",
    "print(x)\n",
    "print(y)"
   ],
   "metadata": {
    "collapsed": false,
    "pycharm": {
     "name": "#%%\n"
    }
   }
  },
  {
   "cell_type": "code",
   "execution_count": 21,
   "outputs": [],
   "source": [
    "x = evaluation.read_socres('./Fold_1_MetricsBase_CNN_Part2.npz', conf_m_title='Concusion Matrix for Base_CNN', show_cm=False, printing = False)\n",
    "tot = evaluation.read_socres('./Fold_1_MetricsBase_CNN_Part2.npz', conf_m_title='Concusion Matrix for Base_CNN', show_cm=False, printing = False).mul(10)\n",
    "\n",
    "for i in range(2,11):\n",
    "    file_path = f'./Fold_{i}_MetricsBase_CNN_Part2.npz'\n",
    "    y = evaluation.read_socres(file_path, conf_m_title='Concusion Matrix for Base_CNN', show_cm=False, printing = False)\n",
    "    tot = tot + y.mul(10)\n",
    "    x=pd.concat([x,y],axis = 1)\n",
    "x.to_csv('AllFolds', index = False)\n",
    "tot.to_csv('sums', index = False)\n",
    "#print(tot)\n",
    "baseline = evaluation.read_socres('./Fold_1_MetricsBase_CNN_Part2.npz', conf_m_title='Concusion Matrix for Base_CNN', show_cm=False, printing = False)"
   ],
   "metadata": {
    "collapsed": false,
    "pycharm": {
     "name": "#%%\n"
    }
   }
  },
  {
   "cell_type": "code",
   "execution_count": 23,
   "outputs": [],
   "source": [
    "x = evaluation.read_socres('./Fold_1_MetricsBase_CNN.npz', conf_m_title='Concusion Matrix for Base_CNN', show_cm=False, printing = False)\n",
    "tot = evaluation.read_socres('./Fold_1_MetricsBase_CNN.npz', conf_m_title='Concusion Matrix for Base_CNN', show_cm=False, printing = False).mul(10)\n",
    "\n",
    "for i in range(2,11):\n",
    "    file_path = f'./Fold_{i}_MetricsBase_CNN.npz'\n",
    "    y = evaluation.read_socres(file_path, conf_m_title='Concusion Matrix for Base_CNN', show_cm=False, printing = False)\n",
    "    tot = tot + y.mul(10)\n",
    "    x=pd.concat([x,y],axis = 1)\n",
    "x.to_csv('AllFolds_base', index = False)\n",
    "tot.to_csv('sums_base', index = False)"
   ],
   "metadata": {
    "collapsed": false,
    "pycharm": {
     "name": "#%%\n"
    }
   }
  }
 ],
 "metadata": {
  "interpreter": {
   "hash": "75dabb51cdb480bc6facf2c981ec85f83c5f38a839d849fc6b0b7624b07b4316"
  },
  "kernelspec": {
   "display_name": "Python 3.6.15 ('comp6721')",
   "language": "python",
   "name": "python3"
  },
  "language_info": {
   "codemirror_mode": {
    "name": "ipython",
    "version": 3
   },
   "file_extension": ".py",
   "mimetype": "text/x-python",
   "name": "python",
   "nbconvert_exporter": "python",
   "pygments_lexer": "ipython3",
   "version": "3.6.15"
  },
  "orig_nbformat": 4
 },
 "nbformat": 4,
 "nbformat_minor": 2
}