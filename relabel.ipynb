{
 "cells": [
  {
   "cell_type": "code",
   "execution_count": 8,
   "metadata": {},
   "outputs": [],
   "source": [
    "import os\n",
    "from IPython.display import Image\n",
    "from IPython.display import clear_output\n",
    "ls = os.listdir('/Users/yinnnyou/workspace/ai_face_mask_detector/data/cropped_resized/surgical_mask')\n",
    "\n",
    "ls = sorted([f for f in ls if f.startswith('2_') and len(f.split('_')) == 2])\n",
    "\n",
    "def c(p, ff):\n",
    "    val = input(\"Enter your value: \")\n",
    "    if val == '1':\n",
    "        os.rename(p, os.path.join('.', 'data', 'cropped_resized', 'surgical_mask', '2_0_0_' + ff.split('_')[1])) # 白人 男\n",
    "    if val == '2':\n",
    "        os.rename(p, os.path.join('.', 'data', 'cropped_resized', 'surgical_mask', '2_1_0_' + ff.split('_')[1]))\n",
    "    if val == '3':\n",
    "        os.rename(p, os.path.join('.', 'data', 'cropped_resized', 'surgical_mask', '2_0_1_' + ff.split('_')[1])) # 黑人 男\n",
    "    if val == '4':\n",
    "        os.rename(p, os.path.join('.', 'data', 'cropped_resized', 'surgical_mask', '2_1_1_' + ff.split('_')[1]))\n",
    "    if val == '5':\n",
    "        os.rename(p, os.path.join('.', 'data', 'cropped_resized', 'surgical_mask', '2_0_2_' + ff.split('_')[1])) # 亚洲人 男\n",
    "    if val == '6':\n",
    "        os.rename(p, os.path.join('.', 'data', 'cropped_resized', 'surgical_mask', '2_1_2_' + ff.split('_')[1]))\n",
    "    if val == '7':\n",
    "        os.rename(p, os.path.join('.', 'data', 'cropped_resized', 'surgical_mask', '2_0_3_' + ff.split('_')[1])) # 阿拉伯人 男\n",
    "    if val == '8':\n",
    "        os.rename(p, os.path.join('.', 'data', 'cropped_resized', 'surgical_mask', '2_1_3_' + ff.split('_')[1]))\n",
    "    \n",
    "    if val == '0':\n",
    "        return False\n",
    "    else:\n",
    "        return True\n",
    "    \n",
    "\n",
    "for ff in [f for f in ls if f.startswith('2_') and len(f.split('_')) == 2]:\n",
    "    clear_output(wait=True)\n",
    "    print(ff)\n",
    "    p = os.path.join('.', 'data', 'cropped_resized', 'surgical_mask', ff)\n",
    "    display(Image(p))\n",
    "    print('1）wm 2）wfm \\n3）bm 4）bfm \\n5）asm 6）asfm \\n7）arm 8）arfm ')\n",
    "    # if not c(p, ff):\n",
    "    #     break\n",
    "    break"
   ]
  },
  {
   "cell_type": "code",
   "execution_count": 54,
   "metadata": {},
   "outputs": [
    {
     "name": "stdout",
     "output_type": "stream",
     "text": [
      "418\n"
     ]
    }
   ],
   "source": [
    "ls = os.listdir('/Users/yinnnyou/workspace/ai_face_mask_detector/data/cropped_resized/cloth_mask')\n",
    "\n",
    "ls = sorted([f for f in ls if f.startswith('0_') and len(f.split('_')) == 4 and list(f)[1] == '_' and list(f)[3] == '_'])\n",
    "\n",
    "print(len(ls))\n",
    "\n",
    "for f in ls:\n",
    "    s = f.split('_')\n",
    "    os.rename(\n",
    "        os.path.join('.', 'data', 'cropped_resized', 'cloth_mask', f), \n",
    "        os.path.join('.', 'data', 'cropped_resized', 'cloth_mask', f\"{s[0]}_{s[3].replace('.', f'_{s[1]}_{s[2]}.')}\")\n",
    "    )"
   ]
  },
  {
   "cell_type": "code",
   "execution_count": 55,
   "metadata": {},
   "outputs": [
    {
     "name": "stdout",
     "output_type": "stream",
     "text": [
      "418\n"
     ]
    }
   ],
   "source": [
    "ls = os.listdir('/Users/yinnnyou/workspace/ai_face_mask_detector/data/cropped_resized/cloth_mask')\n",
    "\n",
    "ls = sorted([f for f in ls if f.startswith('0_') and len(f.split('_')) == 4 and list(f)[1] == '_' and list(f)[7] == '_'])\n",
    "\n",
    "print(len(ls))"
   ]
  }
 ],
 "metadata": {
  "interpreter": {
   "hash": "75dabb51cdb480bc6facf2c981ec85f83c5f38a839d849fc6b0b7624b07b4316"
  },
  "kernelspec": {
   "display_name": "Python 3.6.15 ('comp6721')",
   "language": "python",
   "name": "python3"
  },
  "language_info": {
   "codemirror_mode": {
    "name": "ipython",
    "version": 3
   },
   "file_extension": ".py",
   "mimetype": "text/x-python",
   "name": "python",
   "nbconvert_exporter": "python",
   "pygments_lexer": "ipython3",
   "version": "3.6.15"
  },
  "orig_nbformat": 4
 },
 "nbformat": 4,
 "nbformat_minor": 2
}
